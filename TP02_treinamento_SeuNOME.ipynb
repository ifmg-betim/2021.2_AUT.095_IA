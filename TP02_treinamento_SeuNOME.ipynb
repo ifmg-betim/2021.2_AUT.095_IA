{
 "cells": [
  {
   "cell_type": "markdown",
   "metadata": {},
   "source": [
    "# TP02 - [`ESCREVA SEU NOME AQUI (RA)`]\n",
    "\n",
    "Neste TP você implementará um algoritmo de regressão polinomial usando conceitos e notações que serão aproveitadas posteriormente em outros problemas.\n",
    "\n",
    "**Instruções:**\n",
    "- Use a versão Python 3.\n",
    "- Evite sempre usar usar laços `for` e `while`, fazer contas no formato vetorial é sempre mais rápido.\n",
    "- Não apague os comentários existentes, mas é claro que você pode adicionar outros comentários!\n",
    "\n",
    "**Objetivos**\n",
    "- Implementar código vetorizado\n",
    "- Aplicar o algoritmo de aprendizado em modelos de diferentes capacidades\n",
    "- Verificar na prática conceitos de generalização, overfitting e underfitting"
   ]
  },
  {
   "cell_type": "markdown",
   "metadata": {},
   "source": [
    "## O Jupyter notebook\n",
    "\n",
    "O Jupyter Notebook é um ambiente interativo de programação em uma página web. Nesse notebook você colocará o código entre os comentários `### SEU CÓDIGO COMEÇA AQUI ###` e `### FIM DO CÓDIGO ###`. Após escrever o código, você pode executar a célula com `Shift+Enter` ou no botão \"Run\" (com símbolo de \"play\") na barra de comandos acima.\n",
    "\n",
    "Em alguns trechos será especificado \"(≈ X linhas de código)\" nos comentários para que você tenha uma ideia sobre o tamanho do código a ser desenvolvido naquele trecho. Lembrando que é só uma estimativa, o seu código pode ficar maior ou menor do que o especificado.\n",
    "\n",
    "**Alguns atalhos úteis *no código*:**\n",
    "- `Ctrl+Enter`: executa a célula e mantém o cursor na mesma célula\n",
    "- `Shift+Enter`: executa a célula e move o cursor para a próxima célula\n",
    "- `Ctrl+/`: comenta a linha de código\n",
    "- `Shift+Tab`: quando o cursor estiver em uma função, mostra um HELP da função\n",
    "\n",
    "**Alguns atalhos úteis *na célula*:**\n",
    "- Cria nova célula `a`: acima, `b`: abaixo da céula selecionada\n",
    "- `d` (2x): deleta célula selecionada\n",
    "- `m`: define célula como texto (Markdown)\n",
    "- `y`: define célula como código (Python)\n",
    "- `l`: mostra numeração das linhas na célula de código\n",
    "- `c`: copiar, `v`: colar, `x`: recortar célula selecionada\n",
    "- `ctrl+shift+p`: mostra busca para todos comandos de célula"
   ]
  },
  {
   "cell_type": "markdown",
   "metadata": {},
   "source": [
    "## Escreva o seu RA na variável abaixo\n",
    "Atribua o número do seu RA, sem os zeros à esquerda, na variável `RA` abaixo."
   ]
  },
  {
   "cell_type": "code",
   "execution_count": null,
   "metadata": {},
   "outputs": [],
   "source": [
    "### SEU CÓDIGO COMEÇA AQUI ### (≈ 1 linha de código)\n",
    "RA = None\n",
    "### FIM DO CÓDIGO ###"
   ]
  },
  {
   "cell_type": "markdown",
   "metadata": {},
   "source": [
    "## Dados de treinamento e teste\n",
    "\n",
    "Para testar modelos de redes neurais, usamos, pelo menos, dois conjuntos de dados:\n",
    "- **Dados de Treinamento**: usado para ajustar os parâmetros do modelo\n",
    "- **Dados de Teste (ou validação)**: usado para avaliar o desempenho do modelo em dados não treinados, para verificar se o modelo *generaliza* bem\n",
    "\n",
    "A função abaixo gera dados sintéticos, simulando uma situação real em que teríamos dados de entrada (`x_train` e `x_test`) com os respectivos rótulos de saída (`y_train` e `y_test`). Neste problema, os dados de entrada e de saída são unidimensionais.\n",
    "\n",
    "\n",
    "<mark>**Faça:** </mark>\n",
    "1. Use a função `carregaDados(m, m_test)`, já implementada, para gerar dados de treinamento e de teste, com diferentes quantidades\n",
    "1. Verifique as dimensões dos vetores de dados produzidos\n",
    "1. Use a função com `10` dados de treinamento e `30` dados de teste e gere um gráfico mostrando os dados de treinamento e teste"
   ]
  },
  {
   "cell_type": "code",
   "execution_count": null,
   "metadata": {
    "scrolled": true
   },
   "outputs": [],
   "source": [
    "import numpy as np, matplotlib.pyplot as plt\n",
    "\n",
    "def carregaDados(m, m_test):\n",
    "    \"\"\"\n",
    "    Função para carregar dados.\n",
    "    Entradas\n",
    "       - m: número de amostras de dados de treinamento (x_train, y_train)\n",
    "       - m_test: número de amostras de dados de teste (x_test, y_test)\n",
    "    Saídas\n",
    "       - x_train, y_train: vetores de entrada e saída de treinamento\n",
    "       - x_test, y_test: vetores de entrada e saída de teste\n",
    "    \"\"\"\n",
    "    np.random.seed(RA%7)\n",
    "    a, b, c, d = np.random.rand(4)\n",
    "    x_train = np.random.uniform(-2, 2, m)\n",
    "    x_test = np.random.uniform(-3, 3, m_test)\n",
    "    y_train = 3*d*np.cos(1*x_train) + a/(.1*c + 1 + np.exp(-b*x_train))+np.random.normal(0,.25,m)\n",
    "    y_test = 3*d*np.cos(1*x_test) + a/(.1*c + 1 + np.exp(-b*x_test))+np.random.normal(0,.05,m_test)\n",
    "    return x_train, y_train, x_test, y_test\n",
    "\n",
    "### SEU CÓDIGO COMEÇA AQUI ### (≈ 8 linhas de código)\n",
    "None\n",
    "### FIM DO CÓDIGO ###"
   ]
  },
  {
   "cell_type": "markdown",
   "metadata": {},
   "source": [
    "**Saída esperada**\n",
    "\n",
    "*Gráfico com os dados, semelhante ao gráfico abaixo. Atenção: o seu gráfico não será idêntico ao abaixo, pois há uma aleatoriedade na geração dos dados.*\n",
    "![dados](TP02_dados.png)\n",
    "___"
   ]
  },
  {
   "cell_type": "markdown",
   "metadata": {},
   "source": [
    "## Modelo\n",
    "\n",
    "Agora você vai criar o modelo. Esse modelo poderia ser uma SVM, uma rede neural, modelo RBF, entre outras. Mas, por enquanto, vamos começar com um modelo polinomial:\n",
    "$$ \\hat{y} = \\theta_0 x^0 + \\theta_1 x^1 + \\theta_2 x^2 + \\cdots + \\theta_\\ell x^\\ell $$\n",
    "\n",
    "em que $\\ell$ é o grau do polinômio do modelo.\n",
    "\n",
    "Apesar do problema original ter apenas uma entrada, consideraremos que cada termo $x^0$, $x^1$, $x^2$, ... do polinômio é uma entrada diferente. Ou seja, o nosso modelo terá o número de entradas (`input_size`) igual a\n",
    "$$ n_x = \\ell + 1 .$$\n",
    "\n",
    "Usando a terminologia de redes neurais, o modelo possui um único neurônio, com função de ativação linear, e $\\ell + 1$ entradas.\n",
    "\n",
    "![dados](TP02_modelo.png)\n",
    "\n",
    "Vamos implementar esse modelo definindo uma \"classe\" de modelos polinomiais. Procure na internet alguns exemplos de como implementamos classes e objetos em Python. Encontre alguns exemplos em http://pythonclub.com.br/introducao-classes-metodos-python-basico.html.\n",
    "\n",
    "<mark>**Faça:** </mark>\n",
    "- Crie uma classe chamada `polyModel`\n",
    "- A classe deve ter dois atributos: `input_size`, com o número de entradas do modelo; e `w`, com o vetor de pesos do modelo.\n",
    "- Na inicialização da instância da classe (método `__init__`), inicialize os pesos (`w`) de forma aleatória (distribuição normal, com média nula e desvio padrão pequeno). Além do `self` como primeiro parâmetro, este método deve receber também o número de entradas (`numEntradas`). O método vai ficar assim `__init__(self, numEntradas)`. O número de entradas recebido pelo método (`numEntradas`) deve atualizar o atributo `input_size` do objeto.\n",
    "- Crie um método `setWeights(self, novo_w)` dentro da classe para definir os pesos, em que o parâmetro `novo_w` é o vetor de pesos a serem atribuidos.\n",
    "- Crie uma função `forward(self, X)` dentro da classe para calcular a saída estimada ($\\hat y$) para uma matriz de entrada $X$. Lembre-se que a dimensão da matriz $X$ será a mesma vista em sala de aula: dim$(X)=(n_x, m)$. Como saída, deve ser gerado um vetor com $m$ elementos.\n",
    "- Deixe algum código de teste da sua classe, dos métodos e funções desenvolvidas.\n",
    "- Verifique se funcionou seu código retirando os comentários do trecho indicado por `###### DESCOMENTE AQUI PARA TESTAR`.\n",
    "- Confira se a saída gerada está igual ao gráfico mostrado em \"Saída esperada\" abaixo."
   ]
  },
  {
   "cell_type": "code",
   "execution_count": null,
   "metadata": {},
   "outputs": [],
   "source": [
    "### SEU CÓDIGO COMEÇA AQUI ### (≈ 11 linhas de código)\n",
    "None\n",
    "### FIM DO CÓDIGO ###\n",
    "\n",
    "\n",
    "# ###### DESCOMENTE AQUI PARA TESTAR\n",
    "# m = 100 # quantidade de dados\n",
    "# n_x = 4 # número de entradas (l-1)\n",
    "# modelo = polyModel(n_x) # cria objeto chamado \"modelo\"\n",
    "# modelo.setWeights(np.array((1,2,3,4))) # atribui alguns pesos específicos\n",
    "# # Cria dados de Para gerar gráfico\n",
    "# x = np.linspace(-5,5,m)\n",
    "# X = np.array([x**p for p in np.arange(n_x)])\n",
    "# # Usa o modelo para gerar saída\n",
    "# yh = modelo.forward(X)\n",
    "# plt.figure(figsize=(8,2))\n",
    "# plt.plot(x, yh);\n",
    "# plt.xlabel(\"entrada\")\n",
    "# plt.ylabel(\"saída do modelo\");"
   ]
  },
  {
   "cell_type": "markdown",
   "metadata": {},
   "source": [
    "**Saída esperada**\n",
    "\n",
    "![dados](TP02_saidaModelo.png)\n",
    "___"
   ]
  },
  {
   "cell_type": "markdown",
   "metadata": {},
   "source": [
    "## Testando o modelo\n",
    "\n",
    "Use a função `carregaDados` para gerar dados de treinamento e teste. Crie um modelo, usando a classe `polyModel` criada. Com os dados gerados, use os dados de *treinamento* para treinar o modelo. Para isso, faça o seguinte:\n",
    "1. Arranje os dados de entrada numa matriz `X` com dimensões apropriadas (confira as dimensões!)\n",
    "2. Implemente a solução de mínimos quadrados, conhecida como pseudo-inversa, usando a função disponível em `np.linalg.pinv` (confira as dimensões de todas as matrizes!)\n",
    "3. Faça o treinamento do modelo, ou seja, ajuste os pesos do modelo criado com a solução de mínimos quadrados calculada.\n",
    "4. Faça um gráfico comparando os dados de treinamento com a saída do modelo para os dados de treinamento.\n",
    "4. Indique o RMSE obtido para os dados de treinamento no título do gráfico.\n",
    "4. Faça um gráfico comparando os dados de teste com a saída do modelo para os dados de teste.\n",
    "4. Indique o RMSE obtido para os dados de teste no título do gráfico.\n",
    "\n",
    "Faça esse mesmo procedimento com 3 modelos diferentes: um de baixa ordem (entre 1 e 2), outro de grau médio (entre 3 e 5) e outro de alto grau (maior que 6). Gere dois gráficos para cada situação, indicando o erro nos dados de treinamento e o erro nos dados de teste.\n",
    "\n",
    "#### Modelo de baixa capacidade (ordem)"
   ]
  },
  {
   "cell_type": "code",
   "execution_count": null,
   "metadata": {},
   "outputs": [],
   "source": [
    "### SEU CÓDIGO COMEÇA AQUI ### (≈ 20 linhas de código)\n",
    "None\n",
    "### FIM DO CÓDIGO ###"
   ]
  },
  {
   "cell_type": "markdown",
   "metadata": {},
   "source": [
    "#### Modelo de média capacidade (ordem)"
   ]
  },
  {
   "cell_type": "code",
   "execution_count": null,
   "metadata": {},
   "outputs": [],
   "source": [
    "### SEU CÓDIGO COMEÇA AQUI ### (≈ 20 linhas de código)\n",
    "None\n",
    "### FIM DO CÓDIGO ###"
   ]
  },
  {
   "cell_type": "markdown",
   "metadata": {},
   "source": [
    "#### Modelo de alta capacidade (ordem)"
   ]
  },
  {
   "cell_type": "code",
   "execution_count": null,
   "metadata": {},
   "outputs": [],
   "source": [
    "### SEU CÓDIGO COMEÇA AQUI ### (≈ 20 linhas de código)\n",
    "None\n",
    "### FIM DO CÓDIGO ###"
   ]
  },
  {
   "cell_type": "markdown",
   "metadata": {},
   "source": [
    "**Saída esperada**\n",
    "Para cada uma das 3 células, são esperados 2 gráficos (total de 6 gráficos), indicando o desempenho do modelo nos dados de treinamento (1º gráfico) e nos dados de teste (2º gráfico). O código deve gerar também o RMSE calculado nos dados de treinamento (colocar no título com o 1º gráfico) e nos dados de teste (colocar no título com o 2º gráfico).\n",
    "___\n"
   ]
  },
  {
   "cell_type": "markdown",
   "metadata": {},
   "source": [
    "# Conclusões\n",
    "\n",
    "Escreva aqui as conclusões deste exercício. Deixo abaixo algumas perguntas motivadoras para a discussão.\n",
    "\n",
    "Qual a relação entre o RMSE calculado nos dados de treinamento e o RMSE calculado nos dados de teste? Qual é maior? Um RMSE bom nos dados de treinamento implica, necessariamente, em um bom RMSE nos dados de teste? Por que? Quais informações são possíveis obter olhando apenas para esses dois valores de erro? O que esses erros tem a ver com a *capacidade de generalização* do modelo?\n",
    "___\n",
    "\n",
    "[`escreva aqui`]"
   ]
  }
 ],
 "metadata": {
  "kernelspec": {
   "display_name": "Python 3",
   "language": "python",
   "name": "python3"
  },
  "language_info": {
   "codemirror_mode": {
    "name": "ipython",
    "version": 3
   },
   "file_extension": ".py",
   "mimetype": "text/x-python",
   "name": "python",
   "nbconvert_exporter": "python",
   "pygments_lexer": "ipython3",
   "version": "3.6.11"
  },
  "toc": {
   "base_numbering": 1,
   "nav_menu": {
    "height": "228px",
    "width": "370px"
   },
   "number_sections": true,
   "sideBar": true,
   "skip_h1_title": false,
   "title_cell": "Table of Contents",
   "title_sidebar": "Contents",
   "toc_cell": false,
   "toc_position": {},
   "toc_section_display": true,
   "toc_window_display": false
  },
  "varInspector": {
   "cols": {
    "lenName": 16,
    "lenType": 16,
    "lenVar": 40
   },
   "kernels_config": {
    "python": {
     "delete_cmd_postfix": "",
     "delete_cmd_prefix": "del ",
     "library": "var_list.py",
     "varRefreshCmd": "print(var_dic_list())"
    },
    "r": {
     "delete_cmd_postfix": ") ",
     "delete_cmd_prefix": "rm(",
     "library": "var_list.r",
     "varRefreshCmd": "cat(var_dic_list()) "
    }
   },
   "types_to_exclude": [
    "module",
    "function",
    "builtin_function_or_method",
    "instance",
    "_Feature"
   ],
   "window_display": false
  }
 },
 "nbformat": 4,
 "nbformat_minor": 2
}
