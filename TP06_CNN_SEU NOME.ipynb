{
 "cells": [
  {
   "cell_type": "markdown",
   "metadata": {
    "id": "DVvFHh6b9bly"
   },
   "source": [
    "# TP06 - [`SEU_NOME (RA XXXXXXX)`]\n",
    "\n",
    "Bem vindo!\n",
    "Neste TP você implementará uma rede CNN usando PyTorch para um problema de classificação de imagens.\n",
    "\n",
    "**Instruções:**\n",
    "- Use a versão Python 3.\n",
    "- Recomendo que esse TP seja executado no Google Colab!\n",
    "- Não apague os comentários existentes, mas você pode adicionar outros comentários!\n",
    "\n",
    "**Objetivos**\n",
    "- Implementar uma rede convolucional (CNN) para classificação de imagens\n",
    "- Usar técnicas de aprendizado: Dropout, Momentum, RMSprop, etc.."
   ]
  },
  {
   "cell_type": "markdown",
   "metadata": {
    "id": "RDcHIwSi9bl3"
   },
   "source": [
    "___\n",
    "## 1. Escreva o seu RA na variável abaixo\n",
    "Atribua o número do seu RA, sem os zeros à esquerda, na variável `RA` abaixo."
   ]
  },
  {
   "cell_type": "code",
   "execution_count": null,
   "metadata": {
    "executionInfo": {
     "elapsed": 309,
     "status": "ok",
     "timestamp": 1633627530320,
     "user": {
      "displayName": "Leandro Freitas",
      "photoUrl": "https://lh3.googleusercontent.com/a-/AOh14GgVusDd8VgAC43wTwN8tT0R9k0RDYJUSPRptp48ig=s64",
      "userId": "10514172753867748357"
     },
     "user_tz": 180
    },
    "id": "7AbYCOVC9bl4"
   },
   "outputs": [],
   "source": [
    "### SEU CÓDIGO COMEÇA AQUI ### (≈ 1 linha de código)\n",
    "RA = None\n",
    "### FIM DO CÓDIGO ###"
   ]
  },
  {
   "cell_type": "markdown",
   "metadata": {
    "id": "DW2FUZKn9bl6"
   },
   "source": [
    "___\n",
    "## 2. Bibliotecas\n",
    "\n",
    "Você usará a biblioteca PyTorch neste trabalho.\n",
    "\n",
    "<mark>**Faça**</mark>: Rode o código abaixo para importar as bibliotecas. Se não rodar, você pode precisar instalar o Pytorch (https://pytorch.org/get-started/locally/)"
   ]
  },
  {
   "cell_type": "code",
   "execution_count": null,
   "metadata": {
    "colab": {
     "base_uri": "https://localhost:8080/"
    },
    "executionInfo": {
     "elapsed": 6,
     "status": "ok",
     "timestamp": 1633627530520,
     "user": {
      "displayName": "Leandro Freitas",
      "photoUrl": "https://lh3.googleusercontent.com/a-/AOh14GgVusDd8VgAC43wTwN8tT0R9k0RDYJUSPRptp48ig=s64",
      "userId": "10514172753867748357"
     },
     "user_tz": 180
    },
    "id": "4FqCAPXM9bl6",
    "outputId": "3eb97f22-1ce0-4951-d0d9-10776deca73b"
   },
   "outputs": [],
   "source": [
    "import torch, torchvision\n",
    "import numpy as np, matplotlib.pyplot as plt\n",
    "print(torch.__version__)"
   ]
  },
  {
   "cell_type": "markdown",
   "metadata": {
    "id": "5pUeBJLa9bl7"
   },
   "source": [
    "___\n",
    "## 3. Modelo\n",
    "\n",
    "Agora, vamos trabalhar com um modelo de rede neural convolucional. O código abaixo contém um modelo com duas camadas convolucionais (+ MaxPooling) e uma camada linear totalmente conectada na saída. Esse é o modelo base. A sua tarefa é melhorar o desempenho do modelo implementando diferentes melhorias no algoritmo de aprendizado, conforme vimos em sala de aula.\n",
    "\n",
    "<mark>**Faça**</mark>: primeiro, rode o código e busque entender os parâmetros da rede implementada, quais as dimensões de cada camada convolucional, do Pooling e da saída."
   ]
  },
  {
   "cell_type": "code",
   "execution_count": null,
   "metadata": {
    "executionInfo": {
     "elapsed": 198,
     "status": "ok",
     "timestamp": 1633633887905,
     "user": {
      "displayName": "Leandro Freitas",
      "photoUrl": "https://lh3.googleusercontent.com/a-/AOh14GgVusDd8VgAC43wTwN8tT0R9k0RDYJUSPRptp48ig=s64",
      "userId": "10514172753867748357"
     },
     "user_tz": 180
    },
    "id": "qyXKIJHBzugZ"
   },
   "outputs": [],
   "source": [
    "import torch, torchvision\n",
    "from torch import nn\n",
    "import torch.nn.functional as F\n",
    "\n",
    "class ConvNN(nn.Module):\n",
    "    def __init__(self):\n",
    "        super(ConvNN, self).__init__()\n",
    "        self.cv1 = nn.Conv2d(in_channels=1, out_channels=24,\n",
    "                             kernel_size=5, stride=1, padding=2)\n",
    "        self.cv2 = nn.Conv2d(in_channels=24, out_channels=48,\n",
    "                             kernel_size=5, stride=1, padding=2)\n",
    "        self.fc = nn.Linear(7*7*48, 10)\n",
    "\n",
    "    def forward(self, x):\n",
    "        out = F.relu(F.max_pool2d(self.cv1(x), kernel_size=2))\n",
    "        out = F.relu(F.max_pool2d(self.cv2(out), kernel_size=2))\n",
    "        out = out.view(-1,7*7*48)\n",
    "        return self.fc(out)"
   ]
  },
  {
   "cell_type": "markdown",
   "metadata": {
    "id": "j-VLzYETEYQS"
   },
   "source": [
    "### Dimensão do modelo\n",
    "\n",
    "<mark>**Faça**</mark>: agora, confira as dimensões do modelo, fazendo um `print` das dimensões de cada camada. Lembre-se de como calcular as dimensões de cada camada:\n",
    "$$ (n_b \\times n_c \\times n \\times n)*(1 \\times n_c' \\times f \\times f) \\to \\left(n_b \\times n_c' \\times \\left\\lfloor \\frac{n+2p-f}{s}+1 \\right\\rfloor \\times \\left\\lfloor \\frac{n+2p-f}{s}+1 \\right\\rfloor \\right) $$\n",
    "em que $n_b$ é o tamanho do batch, $n_c$ o número de canais de entrada, $n$ é a dimensão da entrada, $n_c'$ o número de canais de saída, $f$ a dimensão do filtro, $p$ o *padding* (completar com zeros), $s$ o *stride* (passo).\n",
    "As camadas implementadas são:\n",
    "1. Imagem de entrada: `shape = (1, 1, 28, 28)` => (tamanho do batch $\\times$ nº de canais $\\times$ altura $\\times$ largura)\n",
    "1. Camada 1: Convolução: `shape = (???)`\n",
    "1. Camada 1: Max Pooling: `shape = (???)`\n",
    "1. Camada 1: Relu: `shape = (???)`\n",
    "1. Camada 2: Convolução: `shape = (???)`\n",
    "1. Camada 2: Max Pooling: `shape = (???)`\n",
    "1. Camada 2: Relu: `shape = (???)`\n",
    "1. Camada 3: totalmente conectada: `shape = (???)`"
   ]
  },
  {
   "cell_type": "code",
   "execution_count": null,
   "metadata": {
    "colab": {
     "base_uri": "https://localhost:8080/"
    },
    "executionInfo": {
     "elapsed": 193,
     "status": "ok",
     "timestamp": 1633633206083,
     "user": {
      "displayName": "Leandro Freitas",
      "photoUrl": "https://lh3.googleusercontent.com/a-/AOh14GgVusDd8VgAC43wTwN8tT0R9k0RDYJUSPRptp48ig=s64",
      "userId": "10514172753867748357"
     },
     "user_tz": 180
    },
    "id": "cgBSVF_jEXnR",
    "outputId": "b796d4e2-a777-49de-bce0-1262576744d4"
   },
   "outputs": [],
   "source": [
    "###########################################################\n",
    "# Conferindo as dimensões\n"
   ]
  },
  {
   "cell_type": "markdown",
   "metadata": {
    "id": "7cHbsK_2IXqz"
   },
   "source": [
    "___\n",
    "## 4. Treinamento\n",
    "\n",
    "Agora faremos o treinamento de vários modelos e faremos a comparação do desempenho desses modelos. Em todos os casos usaremos os hiperparâmetros abaixo com os seguintes valores:\n",
    "* número de épocas: 10, esse parâmetro não mudará ao longo do trabalho\n",
    "* tamanho do batch: 64, esse parâmetro não mudará ao longo do trabalho\n",
    "\n",
    "<mark>**Faça**</mark>: na célula abaixo, importe os dados do MNIST, da mesma forma que você fez no trabalho anterior. Gere também os DataLoaders."
   ]
  },
  {
   "cell_type": "code",
   "execution_count": null,
   "metadata": {
    "executionInfo": {
     "elapsed": 191,
     "status": "ok",
     "timestamp": 1633637404813,
     "user": {
      "displayName": "Leandro Freitas",
      "photoUrl": "https://lh3.googleusercontent.com/a-/AOh14GgVusDd8VgAC43wTwN8tT0R9k0RDYJUSPRptp48ig=s64",
      "userId": "10514172753867748357"
     },
     "user_tz": 180
    },
    "id": "Dum3BoPO9bl8"
   },
   "outputs": [],
   "source": [
    "import os, time, numpy as np, matplotlib.pyplot as plt\n",
    "import torchvision\n",
    "from torchvision import transforms\n",
    "from torchvision.datasets import MNIST\n",
    "from torch.utils.data import random_split\n",
    "\n",
    "# para normalização dos dados\n",
    "mnist_transform = transforms.Compose([transforms.ToTensor(), transforms.Normalize((0.1307,), (0.3081,)) ])\n",
    "\n",
    "# Carrega dados de treinamento / validação\n",
    "mnist_data = MNIST(os.getcwd(), train=True, download=True, transform=mnist_transform)\n",
    "mnist_train, mnist_val = random_split(mnist_data, [55000, 5000])\n",
    "\n",
    "# Carrega dados de teste\n",
    "mnist_test = MNIST(os.getcwd(), train=False, download=True, transform=mnist_transform)\n",
    "\n",
    "# HIPERPARÂMETROS que manteremos fixos\n",
    "n_batch = 64   # tamanho do batch\n",
    "nEpoch = 10    # número de épocas\n",
    "\n",
    "# DADOS ==> Tamanho do batch\n",
    "loader_trn = DataLoader(mnist_train, batch_size=n_batch, shuffle=True)\n",
    "loader_val = DataLoader(mnist_val, batch_size=n_batch, shuffle=True)\n",
    "loader_tst = DataLoader(mnist_test, batch_size=10000, shuffle=False)"
   ]
  },
  {
   "cell_type": "markdown",
   "metadata": {
    "id": "GzW8PxXIcILN"
   },
   "source": [
    "___\n",
    "#### Rodando na GPU\n",
    "\n",
    "<mark>**Faça**</mark>: rode a célula abaixo e certifique que há uma GPU disponível para executar o código."
   ]
  },
  {
   "cell_type": "code",
   "execution_count": null,
   "metadata": {
    "colab": {
     "base_uri": "https://localhost:8080/"
    },
    "executionInfo": {
     "elapsed": 196,
     "status": "ok",
     "timestamp": 1633637406541,
     "user": {
      "displayName": "Leandro Freitas",
      "photoUrl": "https://lh3.googleusercontent.com/a-/AOh14GgVusDd8VgAC43wTwN8tT0R9k0RDYJUSPRptp48ig=s64",
      "userId": "10514172753867748357"
     },
     "user_tz": 180
    },
    "id": "z-sZom6QKTJd",
    "outputId": "19645844-43d4-4937-a3cf-b595ed613165"
   },
   "outputs": [],
   "source": [
    "# Escolha do processamento\n",
    "cuda = torch.cuda.is_available()\n",
    "device = torch.device(\"cuda:0\" if cuda else \"cpu\")\n",
    "print(device)"
   ]
  },
  {
   "cell_type": "markdown",
   "metadata": {
    "id": "4GoTPqi_cY6s"
   },
   "source": [
    "___\n",
    "Neste trabalho faremos o treinamento de vários modelos para comparação. Assim, criaremos uma função para treinar um modelo.\n",
    "\n",
    "<mark>**Faça**</mark>: crie uma função para o treinamento de um modelo. A função deve receber como entrada o `modelo` e o `optimizer`. Faça o treinamento da mesma forma como foi feito no trabalho anterior. A função deve retornar o histórico de desempenho (função perda) nos dados de treinamento e validação e também a acurácia (percentual de acerto) nos dados de validação."
   ]
  },
  {
   "cell_type": "code",
   "execution_count": null,
   "metadata": {
    "executionInfo": {
     "elapsed": 184,
     "status": "ok",
     "timestamp": 1633637426303,
     "user": {
      "displayName": "Leandro Freitas",
      "photoUrl": "https://lh3.googleusercontent.com/a-/AOh14GgVusDd8VgAC43wTwN8tT0R9k0RDYJUSPRptp48ig=s64",
      "userId": "10514172753867748357"
     },
     "user_tz": 180
    },
    "id": "NSOtu4i6Ubfr"
   },
   "outputs": [],
   "source": [
    "#############################################\n",
    "# Função de treinamento\n",
    "import torch, torch.optim as optim\n",
    "\n"
   ]
  },
  {
   "cell_type": "markdown",
   "metadata": {
    "id": "Af83Z4sNdBWY"
   },
   "source": [
    "___\n",
    "Neste trabalho faremos o treinamento de vários modelos para comparação. Assim, criaremos uma função para treinar um modelo.\n",
    "\n",
    "<mark>**Faça**</mark>: usando a função criada, você vai comparar o desempenho do modelo base em 3 algoritmos diferentes:\n",
    "* **Modelo 001**: SGD, com `alfa = 0.001`\n",
    "* **Modelo 002**: Adam, com `alfa = 0.0001`, `beta1=0.9`, `beta2=0.999`, `epsilon=1e-8`\n",
    "* **Modelo 003**: Adam, com `alfa = 0.001`, `beta1=0.9`, `beta2=0.999`, `epsilon=1e-8`\n",
    "* **Modelo 004**: Adam, com `alfa = 0.01`, `beta1=0.9`, `beta2=0.999`, `epsilon=1e-8`\n",
    "\n",
    "Após rodar os testes, faça um gráfico *acurácia* vs *iterações* comparando o desempenho dos modelos nos treinamentos realizados. Escreva também um texto analisando os diferentes desempenhos obtidos com a CNN e comente também em relação ao desempenho obtido com a rede MLP usada anteriormente."
   ]
  },
  {
   "cell_type": "code",
   "execution_count": null,
   "metadata": {
    "colab": {
     "base_uri": "https://localhost:8080/"
    },
    "executionInfo": {
     "elapsed": 257734,
     "status": "ok",
     "timestamp": 1633637802142,
     "user": {
      "displayName": "Leandro Freitas",
      "photoUrl": "https://lh3.googleusercontent.com/a-/AOh14GgVusDd8VgAC43wTwN8tT0R9k0RDYJUSPRptp48ig=s64",
      "userId": "10514172753867748357"
     },
     "user_tz": 180
    },
    "id": "L-7dkCraWSGv",
    "outputId": "e3b8dd3a-0cd9-433b-a53c-c4c1a9b9b6c3"
   },
   "outputs": [],
   "source": [
    "############################################################\n",
    "# MODELO 001\n"
   ]
  },
  {
   "cell_type": "code",
   "execution_count": null,
   "metadata": {
    "colab": {
     "base_uri": "https://localhost:8080/"
    },
    "executionInfo": {
     "elapsed": 265064,
     "status": "ok",
     "timestamp": 1633638207924,
     "user": {
      "displayName": "Leandro Freitas",
      "photoUrl": "https://lh3.googleusercontent.com/a-/AOh14GgVusDd8VgAC43wTwN8tT0R9k0RDYJUSPRptp48ig=s64",
      "userId": "10514172753867748357"
     },
     "user_tz": 180
    },
    "id": "5xcor8qYXkqG",
    "outputId": "d989f188-af6a-42e3-cc37-8d57e1afa168"
   },
   "outputs": [],
   "source": [
    "############################################################\n",
    "# MODELO 002\n"
   ]
  },
  {
   "cell_type": "code",
   "execution_count": null,
   "metadata": {
    "colab": {
     "base_uri": "https://localhost:8080/"
    },
    "executionInfo": {
     "elapsed": 263889,
     "status": "ok",
     "timestamp": 1633638472598,
     "user": {
      "displayName": "Leandro Freitas",
      "photoUrl": "https://lh3.googleusercontent.com/a-/AOh14GgVusDd8VgAC43wTwN8tT0R9k0RDYJUSPRptp48ig=s64",
      "userId": "10514172753867748357"
     },
     "user_tz": 180
    },
    "id": "4QLWQTghZoZV",
    "outputId": "772c1a97-21fd-4aa3-ffd5-68abf481d987"
   },
   "outputs": [],
   "source": [
    "############################################################\n",
    "# MODELO 003\n"
   ]
  },
  {
   "cell_type": "code",
   "execution_count": null,
   "metadata": {
    "colab": {
     "base_uri": "https://localhost:8080/"
    },
    "executionInfo": {
     "elapsed": 264322,
     "status": "ok",
     "timestamp": 1633638736911,
     "user": {
      "displayName": "Leandro Freitas",
      "photoUrl": "https://lh3.googleusercontent.com/a-/AOh14GgVusDd8VgAC43wTwN8tT0R9k0RDYJUSPRptp48ig=s64",
      "userId": "10514172753867748357"
     },
     "user_tz": 180
    },
    "id": "yImEnpT0ZoNC",
    "outputId": "479de73a-402c-44de-8349-d93c4882b1e9"
   },
   "outputs": [],
   "source": [
    "############################################################\n",
    "# MODELO 004\n"
   ]
  },
  {
   "cell_type": "code",
   "execution_count": null,
   "metadata": {
    "colab": {
     "base_uri": "https://localhost:8080/",
     "height": 283
    },
    "executionInfo": {
     "elapsed": 850,
     "status": "ok",
     "timestamp": 1633639017842,
     "user": {
      "displayName": "Leandro Freitas",
      "photoUrl": "https://lh3.googleusercontent.com/a-/AOh14GgVusDd8VgAC43wTwN8tT0R9k0RDYJUSPRptp48ig=s64",
      "userId": "10514172753867748357"
     },
     "user_tz": 180
    },
    "id": "1beOEBv3ZoCn",
    "outputId": "b0105cd9-cd23-40f4-afea-4732c064136d"
   },
   "outputs": [],
   "source": [
    "###########################################################\n",
    "# Comparação dos resultados\n",
    "plt.figure(figsize=(12,4))\n",
    "plt.plot(acc_001, label=\"SGD (%.1f%%)\"%acc_001[-1])\n",
    "plt.plot(acc_002, label=\"Adam 1e-4 (%.1f%%)\"%acc_002[-1])\n",
    "plt.plot(acc_003, label=\"Adam 1e-3 (%.1f%%)\"%acc_003[-1])\n",
    "plt.plot(acc_004, label=\"Adam 1e-2 (%.1f%%)\"%acc_004[-1])\n",
    "plt.axis([0, len(acc_001), min(acc_001), 100])\n",
    "plt.ylabel(\"Acurácia (%)\")\n",
    "plt.xlabel(\"iterações\")\n",
    "plt.grid(which=\"both\")\n",
    "plt.legend()\n",
    "plt.show();"
   ]
  },
  {
   "cell_type": "markdown",
   "metadata": {
    "id": "-FETe3bdxF32"
   },
   "source": [
    "**TEXTO COMENTANDO OS RESULTADOS OBTIDOS**\n",
    "\n",
    "`Escreva o texto aqui!`"
   ]
  },
  {
   "cell_type": "markdown",
   "metadata": {
    "id": "WI8mddSAe4Vu"
   },
   "source": [
    "___\n",
    "### Aplicando diferentes topologias\n",
    "\n",
    "Usaremos a notação a seguir\n",
    "* **24C5**: camada convolucional com 24 canais usando filtro 5x5 e stride 1\n",
    "* **24C5S2**: camada convolucional com 24 canais usando filtro 5x5 e stride 2\n",
    "* **P2**: Max Pooling com tamanho de filtro 2x2 e stride 2\n",
    "* **256**: rede totalmente conectada com 256 neurônios\n",
    "\n",
    "O modelo base, com dois blocos convolucionais (camada convolucional + pooling) é descrito por:\n",
    "* **Modelo 005**: entrada - [24C5-P2] - [48C5-P2] - 10\n",
    "\n",
    "<mark>**Faça**</mark>: Compare o desempenho do modelo base com os modelos a seguir:\n",
    "* **Modelo 006**: entrada - [24C5-P2] - 256 - 10\n",
    "* **Modelo 007**: entrada - [24C5-P2] - [48C5-P2] - [64C5-P2] - 10\n",
    "* **Modelo 008**: alguma arquitetura diferente à sua escolha\n",
    "\n",
    "Gere um gráfico comparando os modelos e faça um texto comentando os resultados."
   ]
  },
  {
   "cell_type": "code",
   "execution_count": null,
   "metadata": {
    "id": "T1MRiporZn4a"
   },
   "outputs": [],
   "source": [
    "###########################################################\n",
    "# MODELO 005\n"
   ]
  },
  {
   "cell_type": "code",
   "execution_count": null,
   "metadata": {
    "id": "pU_lqIrBxyXq"
   },
   "outputs": [],
   "source": [
    "###########################################################\n",
    "# MODELO 006\n"
   ]
  },
  {
   "cell_type": "code",
   "execution_count": null,
   "metadata": {
    "id": "d9x8Ijb8xxnK"
   },
   "outputs": [],
   "source": [
    "###########################################################\n",
    "# MODELO 007\n"
   ]
  },
  {
   "cell_type": "code",
   "execution_count": null,
   "metadata": {
    "id": "d9x8Ijb8xxnK"
   },
   "outputs": [],
   "source": [
    "###########################################################\n",
    "# MODELO 008\n"
   ]
  },
  {
   "cell_type": "code",
   "execution_count": null,
   "metadata": {
    "id": "O8C9pvKIxxgY"
   },
   "outputs": [],
   "source": [
    "###########################################################\n",
    "# Comparação dos resultados\n"
   ]
  },
  {
   "cell_type": "markdown",
   "metadata": {
    "id": "RvKIqO7ExSJh"
   },
   "source": [
    "**TEXTO COMENTANDO OS RESULTADOS OBTIDOS**\n",
    "\n",
    "`Escreva o texto aqui!`"
   ]
  },
  {
   "cell_type": "markdown",
   "metadata": {
    "id": "fmmubO-4JQGX"
   },
   "source": [
    "___\n",
    "### Dropout e Batch Normalization\n",
    "\n",
    "<mark>**Faça**</mark>: Usando a melhor estrutura de rede e algoritmo que você obteve até aqui, implemente o treinamento com\n",
    "* **Modelo 009**: incluindo dropout com p = 0.3\n",
    "* **Modelo 010**: incluindo dropout com p = 0.7\n",
    "* **Modelo 011**: usando batch normalization ([functional.batch_norm](https://pytorch.org/docs/stable/nn.functional.html#batch-norm), [BatchNorm2d](https://pytorch.org/docs/stable/generated/torch.nn.BatchNorm2d.html))\n",
    "* **Modelo 012**: usando dropout + batch normalization (escolha os parâmetros!)\n",
    "\n",
    "Gere um gráfico comparando os modelos e faça um texto comentando os resultados."
   ]
  },
  {
   "cell_type": "code",
   "execution_count": null,
   "metadata": {
    "id": "78Y7s5FRZnqs"
   },
   "outputs": [],
   "source": [
    "###########################################################\n",
    "# MODELO 009\n"
   ]
  },
  {
   "cell_type": "code",
   "execution_count": null,
   "metadata": {
    "id": "I1P-a2erWRLY"
   },
   "outputs": [],
   "source": [
    "###########################################################\n",
    "# MODELO 010\n"
   ]
  },
  {
   "cell_type": "code",
   "execution_count": null,
   "metadata": {
    "id": "GYXTCKvqJPLx"
   },
   "outputs": [],
   "source": [
    "###########################################################\n",
    "# MODELO 011\n"
   ]
  },
  {
   "cell_type": "code",
   "execution_count": null,
   "metadata": {
    "id": "GYXTCKvqJPLx"
   },
   "outputs": [],
   "source": [
    "###########################################################\n",
    "# MODELO 012\n"
   ]
  },
  {
   "cell_type": "markdown",
   "metadata": {
    "id": "ADIBj3KRJ0Pf"
   },
   "source": [
    "**TEXTO COMENTANDO OS RESULTADOS OBTIDOS**\n",
    "\n",
    "`Escreva o texto aqui!`"
   ]
  },
  {
   "cell_type": "markdown",
   "metadata": {
    "id": "A6uXutvhK8M8"
   },
   "source": [
    "# Conclusões\n",
    "\n",
    "Escreva aqui, em linguagem `markdown`, suas considerações sobre o que foi aprendido nesse trabalho prático.\n",
    "\n",
    "*### escreva aqui ###*"
   ]
  },
  {
   "cell_type": "markdown",
   "metadata": {
    "id": "dMhmh4TgJ1m2"
   },
   "source": [
    "___\n",
    "Fim (ufa!)\n",
    "\n",
    "# Desafio\n",
    "Implemente um modelo que seja melhor que todos anteriores!"
   ]
  },
  {
   "cell_type": "code",
   "execution_count": null,
   "metadata": {
    "id": "5o3kBJPVKxNI"
   },
   "outputs": [],
   "source": [
    "###########################################################\n",
    "# MODELO: *o melhor*\n"
   ]
  }
 ],
 "metadata": {
  "accelerator": "GPU",
  "colab": {
   "collapsed_sections": [],
   "name": "TP06_CNN_SEU NOME_GABARITO.ipynb",
   "provenance": []
  },
  "kernelspec": {
   "display_name": "Python 3",
   "language": "python",
   "name": "python3"
  },
  "language_info": {
   "codemirror_mode": {
    "name": "ipython",
    "version": 3
   },
   "file_extension": ".py",
   "mimetype": "text/x-python",
   "name": "python",
   "nbconvert_exporter": "python",
   "pygments_lexer": "ipython3",
   "version": "3.6.11"
  },
  "toc": {
   "base_numbering": 1,
   "nav_menu": {
    "height": "228px",
    "width": "370px"
   },
   "number_sections": true,
   "sideBar": true,
   "skip_h1_title": false,
   "title_cell": "Table of Contents",
   "title_sidebar": "Contents",
   "toc_cell": false,
   "toc_position": {},
   "toc_section_display": true,
   "toc_window_display": false
  },
  "varInspector": {
   "cols": {
    "lenName": 16,
    "lenType": 16,
    "lenVar": 40
   },
   "kernels_config": {
    "python": {
     "delete_cmd_postfix": "",
     "delete_cmd_prefix": "del ",
     "library": "var_list.py",
     "varRefreshCmd": "print(var_dic_list())"
    },
    "r": {
     "delete_cmd_postfix": ") ",
     "delete_cmd_prefix": "rm(",
     "library": "var_list.r",
     "varRefreshCmd": "cat(var_dic_list()) "
    }
   },
   "types_to_exclude": [
    "module",
    "function",
    "builtin_function_or_method",
    "instance",
    "_Feature"
   ],
   "window_display": false
  }
 },
 "nbformat": 4,
 "nbformat_minor": 1
}
